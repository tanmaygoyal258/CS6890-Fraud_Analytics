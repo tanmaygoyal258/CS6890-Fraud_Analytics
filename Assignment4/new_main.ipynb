{
 "cells": [
  {
   "cell_type": "code",
   "execution_count": 289,
   "metadata": {},
   "outputs": [],
   "source": [
    "import numpy as np\n",
    "import pandas as pd\n",
    "import torch\n",
    "import torch.nn as nn\n",
    "import matplotlib.pyplot as plt"
   ]
  },
  {
   "cell_type": "code",
   "execution_count": 290,
   "metadata": {},
   "outputs": [],
   "source": [
    "dataset = pd.read_csv('costsensitiveregression.csv')"
   ]
  },
  {
   "cell_type": "code",
   "execution_count": 291,
   "metadata": {},
   "outputs": [
    {
     "data": {
      "text/html": [
       "<div>\n",
       "<style scoped>\n",
       "    .dataframe tbody tr th:only-of-type {\n",
       "        vertical-align: middle;\n",
       "    }\n",
       "\n",
       "    .dataframe tbody tr th {\n",
       "        vertical-align: top;\n",
       "    }\n",
       "\n",
       "    .dataframe thead th {\n",
       "        text-align: right;\n",
       "    }\n",
       "</style>\n",
       "<table border=\"1\" class=\"dataframe\">\n",
       "  <thead>\n",
       "    <tr style=\"text-align: right;\">\n",
       "      <th></th>\n",
       "      <th>NotCount</th>\n",
       "      <th>YesCount</th>\n",
       "      <th>ATPM</th>\n",
       "      <th>PFD</th>\n",
       "      <th>PFG</th>\n",
       "      <th>SFD</th>\n",
       "      <th>SFG</th>\n",
       "      <th>WP</th>\n",
       "      <th>WS</th>\n",
       "      <th>AH</th>\n",
       "      <th>AN</th>\n",
       "      <th>Status</th>\n",
       "      <th>FNC</th>\n",
       "    </tr>\n",
       "  </thead>\n",
       "  <tbody>\n",
       "    <tr>\n",
       "      <th>0</th>\n",
       "      <td>2</td>\n",
       "      <td>21</td>\n",
       "      <td>0.0</td>\n",
       "      <td>0.000</td>\n",
       "      <td>0.0</td>\n",
       "      <td>0.0</td>\n",
       "      <td>0.0</td>\n",
       "      <td>0.000000</td>\n",
       "      <td>0.0</td>\n",
       "      <td>0.0</td>\n",
       "      <td>0.0</td>\n",
       "      <td>0</td>\n",
       "      <td>0.0</td>\n",
       "    </tr>\n",
       "    <tr>\n",
       "      <th>1</th>\n",
       "      <td>23</td>\n",
       "      <td>0</td>\n",
       "      <td>0.0</td>\n",
       "      <td>0.044</td>\n",
       "      <td>0.0</td>\n",
       "      <td>0.0</td>\n",
       "      <td>0.0</td>\n",
       "      <td>0.306179</td>\n",
       "      <td>0.0</td>\n",
       "      <td>0.0</td>\n",
       "      <td>0.0</td>\n",
       "      <td>1</td>\n",
       "      <td>0.0</td>\n",
       "    </tr>\n",
       "    <tr>\n",
       "      <th>2</th>\n",
       "      <td>1</td>\n",
       "      <td>22</td>\n",
       "      <td>0.0</td>\n",
       "      <td>0.000</td>\n",
       "      <td>0.0</td>\n",
       "      <td>0.0</td>\n",
       "      <td>0.0</td>\n",
       "      <td>0.000000</td>\n",
       "      <td>0.0</td>\n",
       "      <td>0.0</td>\n",
       "      <td>0.0</td>\n",
       "      <td>0</td>\n",
       "      <td>0.0</td>\n",
       "    </tr>\n",
       "    <tr>\n",
       "      <th>3</th>\n",
       "      <td>5</td>\n",
       "      <td>18</td>\n",
       "      <td>0.0</td>\n",
       "      <td>0.000</td>\n",
       "      <td>0.0</td>\n",
       "      <td>0.0</td>\n",
       "      <td>0.0</td>\n",
       "      <td>0.000000</td>\n",
       "      <td>0.0</td>\n",
       "      <td>0.0</td>\n",
       "      <td>0.0</td>\n",
       "      <td>1</td>\n",
       "      <td>0.0</td>\n",
       "    </tr>\n",
       "    <tr>\n",
       "      <th>4</th>\n",
       "      <td>1</td>\n",
       "      <td>22</td>\n",
       "      <td>0.0</td>\n",
       "      <td>0.000</td>\n",
       "      <td>0.0</td>\n",
       "      <td>0.0</td>\n",
       "      <td>0.0</td>\n",
       "      <td>0.000000</td>\n",
       "      <td>0.0</td>\n",
       "      <td>0.0</td>\n",
       "      <td>0.0</td>\n",
       "      <td>0</td>\n",
       "      <td>0.0</td>\n",
       "    </tr>\n",
       "  </tbody>\n",
       "</table>\n",
       "</div>"
      ],
      "text/plain": [
       "   NotCount  YesCount  ATPM    PFD  PFG  SFD  SFG        WP   WS   AH   AN  \\\n",
       "0         2        21   0.0  0.000  0.0  0.0  0.0  0.000000  0.0  0.0  0.0   \n",
       "1        23         0   0.0  0.044  0.0  0.0  0.0  0.306179  0.0  0.0  0.0   \n",
       "2         1        22   0.0  0.000  0.0  0.0  0.0  0.000000  0.0  0.0  0.0   \n",
       "3         5        18   0.0  0.000  0.0  0.0  0.0  0.000000  0.0  0.0  0.0   \n",
       "4         1        22   0.0  0.000  0.0  0.0  0.0  0.000000  0.0  0.0  0.0   \n",
       "\n",
       "   Status  FNC  \n",
       "0       0  0.0  \n",
       "1       1  0.0  \n",
       "2       0  0.0  \n",
       "3       1  0.0  \n",
       "4       0  0.0  "
      ]
     },
     "execution_count": 291,
     "metadata": {},
     "output_type": "execute_result"
    }
   ],
   "source": [
    "dataset.head()"
   ]
  },
  {
   "cell_type": "code",
   "execution_count": 292,
   "metadata": {},
   "outputs": [
    {
     "data": {
      "text/plain": [
       "count    1.476360e+05\n",
       "mean     5.334049e+02\n",
       "std      8.774011e+03\n",
       "min      0.000000e+00\n",
       "25%      2.820820e-01\n",
       "50%      1.183562e+01\n",
       "75%      1.069840e+02\n",
       "max      1.703186e+06\n",
       "Name: FNC, dtype: float64"
      ]
     },
     "execution_count": 292,
     "metadata": {},
     "output_type": "execute_result"
    }
   ],
   "source": [
    "dataset['FNC'].describe()"
   ]
  },
  {
   "cell_type": "code",
   "execution_count": 293,
   "metadata": {},
   "outputs": [],
   "source": [
    "X = dataset[['NotCount', 'YesCount', 'ATPM', 'PFD', 'PFG', 'SFD', 'SFG', 'WP', 'WS',\n",
    "       'AH', 'AN']]\n",
    "Y = dataset['Status']\n",
    "FN = dataset['FNC']"
   ]
  },
  {
   "cell_type": "code",
   "execution_count": 294,
   "metadata": {},
   "outputs": [],
   "source": [
    "X_ten = torch.tensor(X.values, dtype=torch.float32)\n",
    "Y_ten = torch.tensor(Y.values, dtype=torch.float32)\n",
    "\n",
    "TP_ten = torch.tensor([4 for i in range(len(Y_ten))], dtype=torch.float32)\n",
    "FP_ten = torch.tensor([4 for i in range(len(TP_ten))], dtype=torch.float32)\n",
    "TN_ten = torch.tensor([0 for i in range(len(TP_ten))], dtype=torch.float32)\n",
    "FN_ten = torch.tensor(FN.values, dtype=torch.float32)\n"
   ]
  },
  {
   "cell_type": "code",
   "execution_count": 295,
   "metadata": {},
   "outputs": [],
   "source": [
    "# performing test-train 80-20\n",
    "indices = np.arange(len(dataset) , dtype = np.int64)\n",
    "np.random.shuffle(indices)\n",
    "\n",
    "train_indices = indices[:int(len(dataset)*0.8)].tolist()\n",
    "test_indices = indices[int(len(dataset)*0.8):].tolist()"
   ]
  },
  {
   "cell_type": "code",
   "execution_count": 296,
   "metadata": {},
   "outputs": [],
   "source": [
    "X_train = X_ten[train_indices]\n",
    "Y_train = Y_ten[train_indices].reshape(-1,1)\n",
    "X_test = X_ten[test_indices]\n",
    "Y_test = Y_ten[test_indices].reshape(-1,1)\n",
    "\n",
    "TP_train = TP_ten[train_indices].reshape(-1,1)\n",
    "TP_test = TP_ten[test_indices].reshape(-1,1)\n",
    "FP_train = FP_ten[train_indices].reshape(-1,1)\n",
    "FP_test = FP_ten[test_indices].reshape(-1,1)\n",
    "TN_train = TN_ten[train_indices].reshape(-1,1)\n",
    "TN_test = TN_ten[test_indices].reshape(-1,1)\n",
    "FN_train = FN_ten[train_indices].reshape(-1,1)\n",
    "FN_test = FN_ten[test_indices].reshape(-1,1)\n",
    "\n",
    "# we want to normalize the False negative cost values to values between 0 and 5 \n",
    "# since other costs are approximately equal to 4 \n",
    "# we normalize the testing set also using training set values\n",
    "FN_train_max = torch.max(FN_train)\n",
    "FN_train_min = torch.min(FN_train)\n",
    "\n",
    "FN_train = (FN_train - FN_train_min)/(FN_train_max - FN_train_min) * 5\n",
    "FN_test= (FN_test - FN_train_min)/(FN_train_max - FN_train_min) * 5\n",
    "\n",
    "# using these normalized FN as a feature\n",
    "X_train = torch.hstack((X_train, FN_train))\n",
    "X_test = torch.hstack((X_test, FN_test))"
   ]
  },
  {
   "cell_type": "code",
   "execution_count": 297,
   "metadata": {},
   "outputs": [],
   "source": [
    "class CostSensitiveRegression(nn.Module):\n",
    "    def __init__(self , input_dim , output_dim):\n",
    "        super(CostSensitiveRegression, self).__init__()\n",
    "        self.fc1 = nn.Linear(input_dim , output_dim)\n",
    "        \n",
    "    def forward(self, x):\n",
    "        \n",
    "        return torch.sigmoid(self.fc1(x))"
   ]
  },
  {
   "cell_type": "code",
   "execution_count": 298,
   "metadata": {},
   "outputs": [],
   "source": [
    "def CostSensitiveLoss(y, y_hat, tp, fp, fn, tn):\n",
    "    loss = torch.mean(y * (y_hat * tp + (1 - y_hat) * fn) + (1 - y) * (y_hat * fp + (1 - y_hat) * tn))\n",
    "    loss.requires_grad_()\n",
    "    return loss"
   ]
  },
  {
   "cell_type": "code",
   "execution_count": 299,
   "metadata": {},
   "outputs": [
    {
     "name": "stdout",
     "output_type": "stream",
     "text": [
      "Epoch 1/25 : Train Loss = 0.9495 , Test Loss = 0.9354\n",
      "Epoch 2/25 : Train Loss = 0.9442 , Test Loss = 0.9300\n",
      "Epoch 3/25 : Train Loss = 0.9389 , Test Loss = 0.9246\n",
      "Epoch 4/25 : Train Loss = 0.9336 , Test Loss = 0.9193\n",
      "Epoch 5/25 : Train Loss = 0.9283 , Test Loss = 0.9140\n",
      "Epoch 6/25 : Train Loss = 0.9230 , Test Loss = 0.9087\n",
      "Epoch 7/25 : Train Loss = 0.9177 , Test Loss = 0.9034\n",
      "Epoch 8/25 : Train Loss = 0.9125 , Test Loss = 0.8981\n",
      "Epoch 9/25 : Train Loss = 0.9072 , Test Loss = 0.8928\n",
      "Epoch 10/25 : Train Loss = 0.9020 , Test Loss = 0.8876\n",
      "Epoch 11/25 : Train Loss = 0.8968 , Test Loss = 0.8824\n",
      "Epoch 12/25 : Train Loss = 0.8916 , Test Loss = 0.8771\n",
      "Epoch 13/25 : Train Loss = 0.8864 , Test Loss = 0.8719\n",
      "Epoch 14/25 : Train Loss = 0.8812 , Test Loss = 0.8667\n",
      "Epoch 15/25 : Train Loss = 0.8761 , Test Loss = 0.8615\n",
      "Epoch 16/25 : Train Loss = 0.8709 , Test Loss = 0.8564\n",
      "Epoch 17/25 : Train Loss = 0.8658 , Test Loss = 0.8512\n",
      "Epoch 18/25 : Train Loss = 0.8606 , Test Loss = 0.8461\n",
      "Epoch 19/25 : Train Loss = 0.8555 , Test Loss = 0.8409\n",
      "Epoch 20/25 : Train Loss = 0.8504 , Test Loss = 0.8358\n",
      "Epoch 21/25 : Train Loss = 0.8453 , Test Loss = 0.8307\n",
      "Epoch 22/25 : Train Loss = 0.8402 , Test Loss = 0.8256\n",
      "Epoch 23/25 : Train Loss = 0.8351 , Test Loss = 0.8205\n",
      "Epoch 24/25 : Train Loss = 0.8300 , Test Loss = 0.8154\n",
      "Epoch 25/25 : Train Loss = 0.8249 , Test Loss = 0.8103\n"
     ]
    },
    {
     "data": {
      "image/png": "[encoded data removed]",
      "text/plain": [
       "<Figure size 640x480 with 1 Axes>"
      ]
     },
     "metadata": {},
     "output_type": "display_data"
    }
   ],
   "source": [
    "epochs = 25\n",
    "tp = 4\n",
    "fp = 4\n",
    "tn = 0\n",
    "train_losses = []\n",
    "test_losses = []\n",
    "model = CostSensitiveRegression(12 , 1)\n",
    "optimizer = torch.optim.Adam(model.parameters(), lr=1e-3)\n",
    "\n",
    "for epoch in range(epochs):\n",
    "    y_hat_probs = model(X_train)\n",
    "    loss = CostSensitiveLoss(Y_train, y_hat_probs, TP_train, FP_train, FN_train, TN_train)\n",
    "    optimizer.zero_grad()\n",
    "    loss.backward()\n",
    "    optimizer.step()\n",
    "    train_losses.append(loss.item())\n",
    "\n",
    "    # testing loss\n",
    "    y_hat_probs_test = model(X_test)\n",
    "    Y_hat_test = torch.tensor([1 if i > 0.5 else 0 for i in y_hat_probs_test], dtype=torch.float32)\n",
    "    loss_test = CostSensitiveLoss(Y_test, y_hat_probs_test, TP_test, FP_test, FN_test, TN_test)\n",
    "    test_losses.append(loss_test.item())\n",
    "\n",
    "    print(f'Epoch {epoch+1}/{epochs} : Train Loss = {loss.item():.4f} , Test Loss = {loss_test.item():.4f}')\n",
    "\n",
    "ticks = [i for i in range(1, epochs+1)]\n",
    "plt.title('Cost Sensitive Regression')\n",
    "plt.plot(ticks, train_losses, label='Train Loss')\n",
    "plt.plot(ticks, test_losses, label='Test Loss')\n",
    "plt.xlabel('Epochs')\n",
    "plt.ylabel('Loss')\n",
    "plt.legend()\n",
    "plt.grid()\n",
    "plt.show()"
   ]
  },
  {
   "cell_type": "code",
   "execution_count": 300,
   "metadata": {},
   "outputs": [
    {
     "name": "stdout",
     "output_type": "stream",
     "text": [
      "Accuracy is 85.76605256028176\n"
     ]
    }
   ],
   "source": [
    "y_hat = model(X_test)\n",
    "Y_hat = torch.tensor([1 if i > 0.5 else 0 for i in y_hat], dtype=torch.float32).reshape(-1,1)\n",
    "print(\"Accuracy is {}\".format((Y_hat == Y_test).sum().item()/len(Y_test) * 100))"
   ]
  }
 ],
 "metadata": {
  "kernelspec": {
   "display_name": "sxpress",
   "language": "python",
   "name": "python3"
  },
  "language_info": {
   "codemirror_mode": {
    "name": "ipython",
    "version": 3
   },
   "file_extension": ".py",
   "mimetype": "text/x-python",
   "name": "python",
   "nbconvert_exporter": "python",
   "pygments_lexer": "ipython3",
   "version": "3.8.5"
  },
  "orig_nbformat": 4
 },
 "nbformat": 4,
 "nbformat_minor": 2
}
