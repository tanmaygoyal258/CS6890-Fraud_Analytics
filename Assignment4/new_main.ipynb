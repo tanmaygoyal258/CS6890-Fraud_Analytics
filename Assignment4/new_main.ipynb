{
 "cells": [
  {
   "cell_type": "code",
   "execution_count": 127,
   "metadata": {},
   "outputs": [],
   "source": [
    "import numpy as np\n",
    "import pandas as pd\n",
    "import torch\n",
    "import torch.nn as nn\n",
    "import matplotlib.pyplot as plt"
   ]
  },
  {
   "cell_type": "code",
   "execution_count": 128,
   "metadata": {},
   "outputs": [],
   "source": [
    "dataset = pd.read_csv('costsensitiveregression.csv')"
   ]
  },
  {
   "cell_type": "code",
   "execution_count": 129,
   "metadata": {},
   "outputs": [
    {
     "data": {
      "text/html": [
       "<div>\n",
       "<style scoped>\n",
       "    .dataframe tbody tr th:only-of-type {\n",
       "        vertical-align: middle;\n",
       "    }\n",
       "\n",
       "    .dataframe tbody tr th {\n",
       "        vertical-align: top;\n",
       "    }\n",
       "\n",
       "    .dataframe thead th {\n",
       "        text-align: right;\n",
       "    }\n",
       "</style>\n",
       "<table border=\"1\" class=\"dataframe\">\n",
       "  <thead>\n",
       "    <tr style=\"text-align: right;\">\n",
       "      <th></th>\n",
       "      <th>NotCount</th>\n",
       "      <th>YesCount</th>\n",
       "      <th>ATPM</th>\n",
       "      <th>PFD</th>\n",
       "      <th>PFG</th>\n",
       "      <th>SFD</th>\n",
       "      <th>SFG</th>\n",
       "      <th>WP</th>\n",
       "      <th>WS</th>\n",
       "      <th>AH</th>\n",
       "      <th>AN</th>\n",
       "      <th>Status</th>\n",
       "      <th>FNC</th>\n",
       "    </tr>\n",
       "  </thead>\n",
       "  <tbody>\n",
       "    <tr>\n",
       "      <th>0</th>\n",
       "      <td>2</td>\n",
       "      <td>21</td>\n",
       "      <td>0.0</td>\n",
       "      <td>0.000</td>\n",
       "      <td>0.0</td>\n",
       "      <td>0.0</td>\n",
       "      <td>0.0</td>\n",
       "      <td>0.000000</td>\n",
       "      <td>0.0</td>\n",
       "      <td>0.0</td>\n",
       "      <td>0.0</td>\n",
       "      <td>0</td>\n",
       "      <td>0.0</td>\n",
       "    </tr>\n",
       "    <tr>\n",
       "      <th>1</th>\n",
       "      <td>23</td>\n",
       "      <td>0</td>\n",
       "      <td>0.0</td>\n",
       "      <td>0.044</td>\n",
       "      <td>0.0</td>\n",
       "      <td>0.0</td>\n",
       "      <td>0.0</td>\n",
       "      <td>0.306179</td>\n",
       "      <td>0.0</td>\n",
       "      <td>0.0</td>\n",
       "      <td>0.0</td>\n",
       "      <td>1</td>\n",
       "      <td>0.0</td>\n",
       "    </tr>\n",
       "    <tr>\n",
       "      <th>2</th>\n",
       "      <td>1</td>\n",
       "      <td>22</td>\n",
       "      <td>0.0</td>\n",
       "      <td>0.000</td>\n",
       "      <td>0.0</td>\n",
       "      <td>0.0</td>\n",
       "      <td>0.0</td>\n",
       "      <td>0.000000</td>\n",
       "      <td>0.0</td>\n",
       "      <td>0.0</td>\n",
       "      <td>0.0</td>\n",
       "      <td>0</td>\n",
       "      <td>0.0</td>\n",
       "    </tr>\n",
       "    <tr>\n",
       "      <th>3</th>\n",
       "      <td>5</td>\n",
       "      <td>18</td>\n",
       "      <td>0.0</td>\n",
       "      <td>0.000</td>\n",
       "      <td>0.0</td>\n",
       "      <td>0.0</td>\n",
       "      <td>0.0</td>\n",
       "      <td>0.000000</td>\n",
       "      <td>0.0</td>\n",
       "      <td>0.0</td>\n",
       "      <td>0.0</td>\n",
       "      <td>1</td>\n",
       "      <td>0.0</td>\n",
       "    </tr>\n",
       "    <tr>\n",
       "      <th>4</th>\n",
       "      <td>1</td>\n",
       "      <td>22</td>\n",
       "      <td>0.0</td>\n",
       "      <td>0.000</td>\n",
       "      <td>0.0</td>\n",
       "      <td>0.0</td>\n",
       "      <td>0.0</td>\n",
       "      <td>0.000000</td>\n",
       "      <td>0.0</td>\n",
       "      <td>0.0</td>\n",
       "      <td>0.0</td>\n",
       "      <td>0</td>\n",
       "      <td>0.0</td>\n",
       "    </tr>\n",
       "  </tbody>\n",
       "</table>\n",
       "</div>"
      ],
      "text/plain": [
       "   NotCount  YesCount  ATPM    PFD  PFG  SFD  SFG        WP   WS   AH   AN  \\\n",
       "0         2        21   0.0  0.000  0.0  0.0  0.0  0.000000  0.0  0.0  0.0   \n",
       "1        23         0   0.0  0.044  0.0  0.0  0.0  0.306179  0.0  0.0  0.0   \n",
       "2         1        22   0.0  0.000  0.0  0.0  0.0  0.000000  0.0  0.0  0.0   \n",
       "3         5        18   0.0  0.000  0.0  0.0  0.0  0.000000  0.0  0.0  0.0   \n",
       "4         1        22   0.0  0.000  0.0  0.0  0.0  0.000000  0.0  0.0  0.0   \n",
       "\n",
       "   Status  FNC  \n",
       "0       0  0.0  \n",
       "1       1  0.0  \n",
       "2       0  0.0  \n",
       "3       1  0.0  \n",
       "4       0  0.0  "
      ]
     },
     "execution_count": 129,
     "metadata": {},
     "output_type": "execute_result"
    }
   ],
   "source": [
    "dataset.head()"
   ]
  },
  {
   "cell_type": "code",
   "execution_count": 130,
   "metadata": {},
   "outputs": [
    {
     "data": {
      "text/plain": [
       "Index(['NotCount', 'YesCount', 'ATPM', 'PFD', 'PFG', 'SFD', 'SFG', 'WP', 'WS',\n",
       "       'AH', 'AN', 'Status', 'FNC'],\n",
       "      dtype='object')"
      ]
     },
     "execution_count": 130,
     "metadata": {},
     "output_type": "execute_result"
    }
   ],
   "source": [
    "dataset.columns"
   ]
  },
  {
   "cell_type": "code",
   "execution_count": 131,
   "metadata": {},
   "outputs": [],
   "source": [
    "X = dataset[['NotCount', 'YesCount', 'ATPM', 'PFD', 'PFG', 'SFD', 'SFG', 'WP', 'WS',\n",
    "       'AH', 'AN']]\n",
    "Y = dataset['Status']\n",
    "FN = dataset['FNC']"
   ]
  },
  {
   "cell_type": "code",
   "execution_count": 132,
   "metadata": {},
   "outputs": [],
   "source": [
    "X_ten = torch.tensor(X.values, dtype=torch.float32)\n",
    "Y_ten = torch.tensor(Y.values, dtype=torch.float32)\n",
    "\n",
    "TP_ten = torch.tensor([4 for i in range(len(Y_ten))], dtype=torch.float32)\n",
    "FP_ten = torch.tensor([4 for i in range(len(TP_ten))], dtype=torch.float32)\n",
    "TN_ten = torch.tensor([0 for i in range(len(TP_ten))], dtype=torch.float32)\n",
    "FN_ten = torch.tensor(FN.values, dtype=torch.float32)\n"
   ]
  },
  {
   "cell_type": "code",
   "execution_count": 133,
   "metadata": {},
   "outputs": [],
   "source": [
    "# performing test-train 80-20\n",
    "indices = np.arange(len(dataset) , dtype = np.int64)\n",
    "np.random.shuffle(indices)\n",
    "\n",
    "train_indices = indices[:int(len(dataset)*0.8)].tolist()\n",
    "test_indices = indices[int(len(dataset)*0.8):].tolist()"
   ]
  },
  {
   "cell_type": "code",
   "execution_count": 134,
   "metadata": {},
   "outputs": [],
   "source": [
    "X_train = X_ten[train_indices]\n",
    "Y_train = Y_ten[train_indices].reshape(-1,1)\n",
    "X_test = X_ten[test_indices]\n",
    "Y_test = Y_ten[test_indices].reshape(-1,1)\n",
    "\n",
    "TP_train = TP_ten[train_indices].reshape(-1,1)\n",
    "TP_test = TP_ten[test_indices].reshape(-1,1)\n",
    "FP_train = FP_ten[train_indices].reshape(-1,1)\n",
    "FP_test = FP_ten[test_indices].reshape(-1,1)\n",
    "TN_train = TN_ten[train_indices].reshape(-1,1)\n",
    "TN_test = TN_ten[test_indices].reshape(-1,1)\n",
    "FN_train = FN_ten[train_indices].reshape(-1,1)\n",
    "FN_test = FN_ten[test_indices].reshape(-1,1)"
   ]
  },
  {
   "cell_type": "code",
   "execution_count": 135,
   "metadata": {},
   "outputs": [],
   "source": [
    "class CostSensitiveRegression(nn.Module):\n",
    "    def __init__(self , input_dim , output_dim):\n",
    "        super(CostSensitiveRegression, self).__init__()\n",
    "        self.fc1 = nn.Linear(input_dim , output_dim)\n",
    "        \n",
    "    def forward(self, x):\n",
    "        \n",
    "        return torch.sigmoid(self.fc1(x))"
   ]
  },
  {
   "cell_type": "code",
   "execution_count": 136,
   "metadata": {},
   "outputs": [],
   "source": [
    "def CostSensitiveLoss(y, y_hat, tp, fp, fn, tn):\n",
    "    loss = torch.mean(y * (y_hat * tp + (1 - y_hat) * fn) + (1 - y) * (y_hat * fp + (1 - y_hat) * tn))\n",
    "    loss.requires_grad_()\n",
    "    return loss"
   ]
  },
  {
   "cell_type": "code",
   "execution_count": 137,
   "metadata": {},
   "outputs": [
    {
     "name": "stdout",
     "output_type": "stream",
     "text": [
      "Epoch 1 : Train Loss = 30.371278762817383 , Test Loss = 39.37268829345703\n",
      "Epoch 2 : Train Loss = 27.423795700073242 , Test Loss = 36.28511047363281\n",
      "Epoch 3 : Train Loss = 24.7625789642334 , Test Loss = 33.50606918334961\n",
      "Epoch 4 : Train Loss = 22.35785484313965 , Test Loss = 31.000225067138672\n",
      "Epoch 5 : Train Loss = 20.183218002319336 , Test Loss = 28.72590446472168\n",
      "Epoch 6 : Train Loss = 18.21501350402832 , Test Loss = 26.644792556762695\n",
      "Epoch 7 : Train Loss = 16.43131446838379 , Test Loss = 24.72381591796875\n",
      "Epoch 8 : Train Loss = 14.812590599060059 , Test Loss = 22.93465232849121\n",
      "Epoch 9 : Train Loss = 13.343155860900879 , Test Loss = 21.253658294677734\n",
      "Epoch 10 : Train Loss = 12.011892318725586 , Test Loss = 19.66217041015625\n"
     ]
    },
    {
     "data": {
      "image/png": "[encoded data removed]",
      "text/plain": [
       "<Figure size 640x480 with 1 Axes>"
      ]
     },
     "metadata": {},
     "output_type": "display_data"
    }
   ],
   "source": [
    "epochs = 10\n",
    "batch_size = 1000\n",
    "num_batches = len(X_train) // batch_size + 1    # to account for the remainder of samples\n",
    "tp = 4\n",
    "fp = 4\n",
    "tn = 0\n",
    "train_losses = []\n",
    "test_losses = []\n",
    "model = CostSensitiveRegression(11 , 1)\n",
    "optimizer = torch.optim.Adam(model.parameters(), lr=0.01)\n",
    "\n",
    "for epoch in range(epochs):\n",
    "    y_hat_probs = model(X_train)\n",
    "    loss = CostSensitiveLoss(Y_train, y_hat_probs, TP_train, FP_train, FN_train, TN_train)\n",
    "    optimizer.zero_grad()\n",
    "    loss.backward()\n",
    "    optimizer.step()\n",
    "    train_losses.append(loss.item())\n",
    "\n",
    "    # testing loss\n",
    "    y_hat_probs_test = model(X_test)\n",
    "    Y_hat_test = torch.tensor([1 if i > 0.5 else 0 for i in y_hat_probs_test], dtype=torch.float32)\n",
    "    loss_test = CostSensitiveLoss(Y_test, y_hat_probs_test, TP_test, FP_test, FN_test, TN_test)\n",
    "    test_losses.append(loss_test.item())\n",
    "\n",
    "    print(\"Epoch {} : Train Loss = {} , Test Loss = {}\".format(epoch+1, loss.item(), loss_test.item()))\n",
    "\n",
    "\n",
    "ticks = [i for i in range(1, epochs+1)]\n",
    "plt.title('Cost Sensitive Regression')\n",
    "plt.plot(ticks, train_losses, label='Train Loss')\n",
    "plt.plot(ticks, test_losses, label='Test Loss')\n",
    "plt.xlabel('Epochs')\n",
    "plt.ylabel('Loss')\n",
    "plt.legend()\n",
    "plt.grid()\n",
    "plt.show()"
   ]
  },
  {
   "cell_type": "code",
   "execution_count": 138,
   "metadata": {},
   "outputs": [
    {
     "name": "stdout",
     "output_type": "stream",
     "text": [
      "tensor([[0.],\n",
      "        [1.],\n",
      "        [0.],\n",
      "        ...,\n",
      "        [0.],\n",
      "        [0.],\n",
      "        [0.]])\n",
      "The accuracy is 83.26\n"
     ]
    }
   ],
   "source": [
    "y_hat = model(X_test)\n",
    "Y_hat = torch.tensor([1 if i > 0.5 else 0 for i in y_hat], dtype=torch.float32).reshape(-1 , 1)\n",
    "print(Y_hat)\n",
    "correct = (Y_hat == Y_test).sum()\n",
    "print(\"The accuracy is {:.2f}\".format(correct / len(Y_test) * 100))"
   ]
  }
 ],
 "metadata": {
  "kernelspec": {
   "display_name": "sxpress",
   "language": "python",
   "name": "python3"
  },
  "language_info": {
   "codemirror_mode": {
    "name": "ipython",
    "version": 3
   },
   "file_extension": ".py",
   "mimetype": "text/x-python",
   "name": "python",
   "nbconvert_exporter": "python",
   "pygments_lexer": "ipython3",
   "version": "3.9.13"
  },
  "orig_nbformat": 4
 },
 "nbformat": 4,
 "nbformat_minor": 2
}
