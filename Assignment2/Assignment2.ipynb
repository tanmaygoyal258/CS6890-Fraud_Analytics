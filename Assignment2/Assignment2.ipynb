{
 "cells": [
  {
   "cell_type": "code",
   "execution_count": 390,
   "metadata": {},
   "outputs": [],
   "source": [
    "import numpy as np\n",
    "import pandas as pd\n",
    "from pregel import Vertex , Pregel\n",
    "import matplotlib.pyplot as plt"
   ]
  },
  {
   "cell_type": "code",
   "execution_count": 375,
   "metadata": {},
   "outputs": [
    {
     "data": {
      "text/html": [
       "<div>\n",
       "<style scoped>\n",
       "    .dataframe tbody tr th:only-of-type {\n",
       "        vertical-align: middle;\n",
       "    }\n",
       "\n",
       "    .dataframe tbody tr th {\n",
       "        vertical-align: top;\n",
       "    }\n",
       "\n",
       "    .dataframe thead th {\n",
       "        text-align: right;\n",
       "    }\n",
       "</style>\n",
       "<table border=\"1\" class=\"dataframe\">\n",
       "  <thead>\n",
       "    <tr style=\"text-align: right;\">\n",
       "      <th></th>\n",
       "      <th>Seller ID</th>\n",
       "      <th>Buyer ID</th>\n",
       "      <th>Value</th>\n",
       "    </tr>\n",
       "  </thead>\n",
       "  <tbody>\n",
       "    <tr>\n",
       "      <th>0</th>\n",
       "      <td>1309</td>\n",
       "      <td>1011</td>\n",
       "      <td>1225513</td>\n",
       "    </tr>\n",
       "    <tr>\n",
       "      <th>1</th>\n",
       "      <td>1309</td>\n",
       "      <td>1011</td>\n",
       "      <td>1179061</td>\n",
       "    </tr>\n",
       "    <tr>\n",
       "      <th>2</th>\n",
       "      <td>1309</td>\n",
       "      <td>1011</td>\n",
       "      <td>1119561</td>\n",
       "    </tr>\n",
       "    <tr>\n",
       "      <th>3</th>\n",
       "      <td>1309</td>\n",
       "      <td>1011</td>\n",
       "      <td>1200934</td>\n",
       "    </tr>\n",
       "    <tr>\n",
       "      <th>4</th>\n",
       "      <td>1309</td>\n",
       "      <td>1011</td>\n",
       "      <td>1658957</td>\n",
       "    </tr>\n",
       "    <tr>\n",
       "      <th>...</th>\n",
       "      <td>...</td>\n",
       "      <td>...</td>\n",
       "      <td>...</td>\n",
       "    </tr>\n",
       "    <tr>\n",
       "      <th>130530</th>\n",
       "      <td>1344</td>\n",
       "      <td>1390</td>\n",
       "      <td>212390</td>\n",
       "    </tr>\n",
       "    <tr>\n",
       "      <th>130531</th>\n",
       "      <td>1914</td>\n",
       "      <td>1390</td>\n",
       "      <td>28739</td>\n",
       "    </tr>\n",
       "    <tr>\n",
       "      <th>130532</th>\n",
       "      <td>1914</td>\n",
       "      <td>1390</td>\n",
       "      <td>46861</td>\n",
       "    </tr>\n",
       "    <tr>\n",
       "      <th>130533</th>\n",
       "      <td>1914</td>\n",
       "      <td>1390</td>\n",
       "      <td>10585</td>\n",
       "    </tr>\n",
       "    <tr>\n",
       "      <th>130534</th>\n",
       "      <td>1914</td>\n",
       "      <td>1390</td>\n",
       "      <td>14972</td>\n",
       "    </tr>\n",
       "  </tbody>\n",
       "</table>\n",
       "<p>130535 rows × 3 columns</p>\n",
       "</div>"
      ],
      "text/plain": [
       "        Seller ID  Buyer ID    Value\n",
       "0            1309      1011  1225513\n",
       "1            1309      1011  1179061\n",
       "2            1309      1011  1119561\n",
       "3            1309      1011  1200934\n",
       "4            1309      1011  1658957\n",
       "...           ...       ...      ...\n",
       "130530       1344      1390   212390\n",
       "130531       1914      1390    28739\n",
       "130532       1914      1390    46861\n",
       "130533       1914      1390    10585\n",
       "130534       1914      1390    14972\n",
       "\n",
       "[130535 rows x 3 columns]"
      ]
     },
     "execution_count": 375,
     "metadata": {},
     "output_type": "execute_result"
    }
   ],
   "source": [
    "# reading the dataset and ensuring it is Integer format\n",
    "dataset = pd.read_csv('Iron_dealers_data.csv')\n",
    "dataset['Value'] = dataset['Value'].astype(int)\n",
    "dataset"
   ]
  },
  {
   "cell_type": "code",
   "execution_count": 376,
   "metadata": {},
   "outputs": [],
   "source": [
    "# creating a mapping for all traders involved\n",
    "sellers = dataset['Seller ID'].to_list()\n",
    "buyers = dataset['Buyer ID'].to_list()\n",
    "all_traders = list(set(sellers + buyers))\n",
    "all_traders.sort()\n",
    "\n",
    "integer_to_trader = {}\n",
    "trader_to_integer = {}\n",
    "\n",
    "for idx , trader in enumerate(all_traders):\n",
    "    integer_to_trader[idx] = trader\n",
    "    trader_to_integer[trader] = idx\n",
    "\n",
    "TOTAL_TRADERS = len(integer_to_trader.keys())"
   ]
  },
  {
   "cell_type": "code",
   "execution_count": 377,
   "metadata": {},
   "outputs": [],
   "source": [
    "for row in dataset.iterrows():\n",
    "    dataset.at[row[0] , 'Seller ID'] = trader_to_integer[row[1]['Seller ID']]\n",
    "    dataset.at[row[0] , 'Buyer ID'] = trader_to_integer[row[1]['Buyer ID']]"
   ]
  },
  {
   "cell_type": "code",
   "execution_count": 378,
   "metadata": {},
   "outputs": [],
   "source": [
    "# reading the bad traders\n",
    "bad = pd.read_csv('bad.csv')\n",
    "bad_traders = bad['Bad Id'].to_list()\n",
    "\n",
    "bad_traders = [trader_to_integer[x] for x in bad_traders]\n",
    "\n",
    "TOTAL_BAD_TRADERS = len(bad_traders)"
   ]
  },
  {
   "cell_type": "code",
   "execution_count": 379,
   "metadata": {},
   "outputs": [],
   "source": [
    "# will store pairs of seller and buyer\n",
    "sell_buy = {}\n",
    "\n",
    "# for each seller buyer, stores the transaction values\n",
    "transactions = {}\n",
    "\n",
    "for row in dataset.iterrows():\n",
    "    \n",
    "    row = row[1]\n",
    "\n",
    "    # if seller has not been seen so far, add it to the dictionary\n",
    "    if row['Seller ID'] not in sell_buy:\n",
    "        sell_buy[row['Seller ID']] = []\n",
    "\n",
    "    sell_buy[row['Seller ID']].append(row['Buyer ID'])\n",
    "\n",
    "    # if not already present, add the pair to the dictionary\n",
    "    if (row['Seller ID'], row['Buyer ID']) not in transactions:\n",
    "        transactions[(row['Seller ID'], row['Buyer ID'])] = []\n",
    "    \n",
    "    transactions[(row['Seller ID'], row['Buyer ID'])].append(row['Value'])\n",
    "\n",
    "# set helps to extract unique values\n",
    "for key in sell_buy.keys():\n",
    "    sell_buy[key] = list(set(sell_buy[key]))"
   ]
  },
  {
   "cell_type": "code",
   "execution_count": 380,
   "metadata": {},
   "outputs": [],
   "source": [
    "all_traders = list(set(dataset['Seller ID'].to_list() + dataset['Buyer ID'].to_list()))\n",
    "vertices_with_outgoing_edges = list(set(sell_buy.keys()))\n",
    "no_outgoing_edges = list(set(all_traders) - set(vertices_with_outgoing_edges))\n",
    "\n",
    "for trader in no_outgoing_edges:\n",
    "    for bad_trader in bad_traders:\n",
    "        transactions[(trader , bad_trader)] = [1]\n",
    "\n",
    "for transaction in transactions.keys():\n",
    "    transactions[transaction] = sum(transactions[transaction])"
   ]
  },
  {
   "cell_type": "code",
   "execution_count": 381,
   "metadata": {},
   "outputs": [],
   "source": [
    "sell_buy_new = sell_buy.copy()\n",
    "\n",
    "for edge in no_outgoing_edges:\n",
    "    sell_buy_new[edge] = bad_traders"
   ]
  },
  {
   "cell_type": "code",
   "execution_count": 382,
   "metadata": {},
   "outputs": [],
   "source": [
    "class TrustRankVertex(Vertex):\n",
    "    def __init__(self , id , value , out_vertices , outgoing_weights, is_bad_node , num_bad_nodes ,dampingFactor=0.85,iterations=50):\n",
    "        Vertex.__init__(self,id,value,out_vertices)\n",
    "        self.dampingFactor = dampingFactor\n",
    "        self.num_supersteps = iterations\n",
    "        self.is_bad_node = is_bad_node\n",
    "        self.num_bad_nodes = num_bad_nodes\n",
    "        self.outgoing_weights = outgoing_weights\n",
    "        self.out_vertices = out_vertices\n",
    "\n",
    "    def update(self):\n",
    "        # This routine has a bug when there are pages with no outgoing\n",
    "        # links (never the case for our tests).  This problem can be\n",
    "        # solved by introducing Aggregators into the Pregel framework,\n",
    "        # but as an initial demonstration this works fine.\n",
    "\n",
    "        #print(f\"{self.id} Vertex Superstep : {self.superstep}\" )\n",
    "        if self.superstep < self.num_supersteps:\n",
    "            messages_sum = 0\n",
    "            \n",
    "            for (vertex,message) in self.incoming_messages:\n",
    "                messages_sum = messages_sum+message\n",
    "            \n",
    "            self.value = (1-self.dampingFactor) / self.num_bad_nodes if self.is_bad_node else 0 \n",
    "            self.value += self.dampingFactor * messages_sum\n",
    "            self.outgoing_messages = [(vertex , self.value * self.outgoing_weights[vertex.id] / np.sum(list(self.outgoing_weights.values()))) \\\n",
    "                 for vertex in self.out_vertices]\n",
    "        \n",
    "        else:\n",
    "            self.active = False\n",
    "\n"
   ]
  },
  {
   "cell_type": "code",
   "execution_count": 383,
   "metadata": {},
   "outputs": [],
   "source": [
    "# initializing the trust rank\n",
    "trust_rank_initial = []\n",
    "\n",
    "for i in range(TOTAL_TRADERS):\n",
    "    trust_rank_initial.append(1/TOTAL_BAD_TRADERS if i in bad_traders else 0)"
   ]
  },
  {
   "cell_type": "code",
   "execution_count": 384,
   "metadata": {},
   "outputs": [],
   "source": [
    "# initialzing the vertices\n",
    "vertices = []\n",
    "\n",
    "for i in range(TOTAL_TRADERS):\n",
    "    vertices.append(TrustRankVertex(i , trust_rank_initial[i] , [] , {} , i in bad_traders , TOTAL_BAD_TRADERS , 0.85 , 2))"
   ]
  },
  {
   "cell_type": "code",
   "execution_count": 385,
   "metadata": {},
   "outputs": [],
   "source": [
    "for v1 in vertices:\n",
    "    for v2 in vertices:\n",
    "        if v2.id in sell_buy_new[v1.id]:\n",
    "            v1.out_vertices.append(v2)\n",
    "            try:\n",
    "                v1.outgoing_weights[v2.id] = transactions[(v1.id , v2.id)]\n",
    "            except:\n",
    "                v1.outgoing_weights[v2.id] = transactions[(v2.id , v1.id)]"
   ]
  },
  {
   "cell_type": "code",
   "execution_count": 386,
   "metadata": {},
   "outputs": [],
   "source": [
    "p = Pregel(vertices,4)\n",
    "p.run()\n",
    "bad_scores = [v.value for v in p.vertices]"
   ]
  },
  {
   "cell_type": "code",
   "execution_count": 389,
   "metadata": {},
   "outputs": [],
   "source": [
    "result = []\n",
    "for i in range(TOTAL_TRADERS):\n",
    "    result.append((integer_to_trader[i] , bad_scores[i]))\n",
    "\n",
    "final_df = pd.DataFrame(result , columns=['Trader ID' , 'Bad Score'])\n",
    "\n",
    "final_df.to_csv('bad_score.csv' , index=False)\n"
   ]
  },
  {
   "cell_type": "code",
   "execution_count": 395,
   "metadata": {},
   "outputs": [
    {
     "data": {
      "image/png": "[encoded data removed]",
      "text/plain": [
       "<Figure size 640x480 with 1 Axes>"
      ]
     },
     "metadata": {},
     "output_type": "display_data"
    }
   ],
   "source": [
    "plt.hist(bad_scores , bins = 'auto')\n",
    "plt.title(\"Bad Score Distribution of Traders\")\n",
    "plt.xlabel(\"Bad Score\")\n",
    "plt.ylabel(\"Frequency of Traders\")\n",
    "plt.show()"
   ]
  },
  {
   "cell_type": "code",
   "execution_count": 394,
   "metadata": {},
   "outputs": [
    {
     "name": "stdout",
     "output_type": "stream",
     "text": [
      "The top 20 bad traders with their bad scores are: \n",
      "     Trader ID  Bad Score\n",
      "10        1011   0.014371\n",
      "33        1034   0.012130\n",
      "290       1309   0.010926\n",
      "38        1039   0.010221\n",
      "144       1147   0.009874\n",
      "203       1210   0.009721\n",
      "97        1099   0.009514\n",
      "6         1007   0.009255\n",
      "73        1074   0.008793\n",
      "41        1042   0.008758\n",
      "159       1163   0.008222\n",
      "432       1488   0.007847\n",
      "75        1076   0.007560\n",
      "363       1393   0.007500\n",
      "647       1832   0.007500\n",
      "248       1259   0.007500\n",
      "552       1668   0.007500\n",
      "628       1801   0.007500\n",
      "246       1256   0.007500\n",
      "44        1045   0.007500\n"
     ]
    }
   ],
   "source": [
    "print(\"The top 20 bad traders with their bad scores are: \")\n",
    "print(final_df.sort_values(by=['Bad Score'] , ascending=False).head(20))"
   ]
  }
 ],
 "metadata": {
  "kernelspec": {
   "display_name": "test_env",
   "language": "python",
   "name": "python3"
  },
  "language_info": {
   "codemirror_mode": {
    "name": "ipython",
    "version": 3
   },
   "file_extension": ".py",
   "mimetype": "text/x-python",
   "name": "python",
   "nbconvert_exporter": "python",
   "pygments_lexer": "ipython3",
   "version": "3.9.13"
  },
  "orig_nbformat": 4
 },
 "nbformat": 4,
 "nbformat_minor": 2
}
