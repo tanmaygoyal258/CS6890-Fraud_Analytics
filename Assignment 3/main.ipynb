{
  "nbformat": 4,
  "nbformat_minor": 0,
  "metadata": {
    "colab": {
      "provenance": [],
      "toc_visible": true
    },
    "kernelspec": {
      "name": "python3",
      "display_name": "Python 3"
    },
    "language_info": {
      "name": "python"
    }
  },
  "cells": [
    {
      "cell_type": "code",
      "execution_count": null,
      "metadata": {
        "id": "mazPRjaAaTCH"
      },
      "outputs": [],
      "source": [
        "# Import statements\n",
        "import numpy as np\n",
        "import pandas as pd\n",
        "\n",
        "import matplotlib.pyplot as plt\n",
        "import seaborn as sns\n",
        "\n",
        "from sklearn.preprocessing import normalize\n",
        "from sklearn.cluster import KMeans\n"
      ]
    },
    {
      "cell_type": "code",
      "source": [
        "# Change the file path if required\n",
        "FILE_PATH = \"/content/drive/MyDrive/Colab Notebooks/data.csv\""
      ],
      "metadata": {
        "id": "ErDh1xok0z-P"
      },
      "execution_count": null,
      "outputs": []
    },
    {
      "cell_type": "code",
      "source": [
        "data = pd.read_csv(FILE_PATH)\n",
        "\n",
        "data.head()\n"
      ],
      "metadata": {
        "colab": {
          "base_uri": "https://localhost:8080/",
          "height": 206
        },
        "id": "626xDjz1alG7",
        "outputId": "3c09d1bb-7754-4014-a833-2c888c4b0622"
      },
      "execution_count": null,
      "outputs": [
        {
          "output_type": "execute_result",
          "data": {
            "text/plain": [
              "       cov1      cov2      cov3      cov4      cov5      cov6      cov7  \\\n",
              "0  0.997797  0.999888  0.215934  0.196713  0.000000  0.955616  0.998810   \n",
              "1  0.994004  0.979902 -0.337135 -0.248634  0.000000  0.640812  0.553918   \n",
              "2  0.947603  0.455667  0.001743  0.128610 -0.004054 -0.162069  0.960601   \n",
              "3  0.396577  0.919933  0.496451  0.576824 -0.340718  0.802363  0.673710   \n",
              "4  0.999893  0.327615  0.700477  0.315601  0.000000  0.300785  0.979009   \n",
              "\n",
              "   sal_pur_rat  igst_itc_tot_itc_rat  lib_igst_itc_rat  \n",
              "0    -0.032581              1.761759         -0.054329  \n",
              "1    -0.032026             -0.629311         -0.053516  \n",
              "2    -0.030209              1.535697         -0.054215  \n",
              "3    -0.032058              0.449160         -0.054126  \n",
              "4    -0.032224              1.762049         -0.054330  "
            ],
            "text/html": [
              "\n",
              "  <div id=\"df-791f601d-4448-4886-96f5-18f82904f009\">\n",
              "    <div class=\"colab-df-container\">\n",
              "      <div>\n",
              "<style scoped>\n",
              "    .dataframe tbody tr th:only-of-type {\n",
              "        vertical-align: middle;\n",
              "    }\n",
              "\n",
              "    .dataframe tbody tr th {\n",
              "        vertical-align: top;\n",
              "    }\n",
              "\n",
              "    .dataframe thead th {\n",
              "        text-align: right;\n",
              "    }\n",
              "</style>\n",
              "<table border=\"1\" class=\"dataframe\">\n",
              "  <thead>\n",
              "    <tr style=\"text-align: right;\">\n",
              "      <th></th>\n",
              "      <th>cov1</th>\n",
              "      <th>cov2</th>\n",
              "      <th>cov3</th>\n",
              "      <th>cov4</th>\n",
              "      <th>cov5</th>\n",
              "      <th>cov6</th>\n",
              "      <th>cov7</th>\n",
              "      <th>sal_pur_rat</th>\n",
              "      <th>igst_itc_tot_itc_rat</th>\n",
              "      <th>lib_igst_itc_rat</th>\n",
              "    </tr>\n",
              "  </thead>\n",
              "  <tbody>\n",
              "    <tr>\n",
              "      <th>0</th>\n",
              "      <td>0.997797</td>\n",
              "      <td>0.999888</td>\n",
              "      <td>0.215934</td>\n",
              "      <td>0.196713</td>\n",
              "      <td>0.000000</td>\n",
              "      <td>0.955616</td>\n",
              "      <td>0.998810</td>\n",
              "      <td>-0.032581</td>\n",
              "      <td>1.761759</td>\n",
              "      <td>-0.054329</td>\n",
              "    </tr>\n",
              "    <tr>\n",
              "      <th>1</th>\n",
              "      <td>0.994004</td>\n",
              "      <td>0.979902</td>\n",
              "      <td>-0.337135</td>\n",
              "      <td>-0.248634</td>\n",
              "      <td>0.000000</td>\n",
              "      <td>0.640812</td>\n",
              "      <td>0.553918</td>\n",
              "      <td>-0.032026</td>\n",
              "      <td>-0.629311</td>\n",
              "      <td>-0.053516</td>\n",
              "    </tr>\n",
              "    <tr>\n",
              "      <th>2</th>\n",
              "      <td>0.947603</td>\n",
              "      <td>0.455667</td>\n",
              "      <td>0.001743</td>\n",
              "      <td>0.128610</td>\n",
              "      <td>-0.004054</td>\n",
              "      <td>-0.162069</td>\n",
              "      <td>0.960601</td>\n",
              "      <td>-0.030209</td>\n",
              "      <td>1.535697</td>\n",
              "      <td>-0.054215</td>\n",
              "    </tr>\n",
              "    <tr>\n",
              "      <th>3</th>\n",
              "      <td>0.396577</td>\n",
              "      <td>0.919933</td>\n",
              "      <td>0.496451</td>\n",
              "      <td>0.576824</td>\n",
              "      <td>-0.340718</td>\n",
              "      <td>0.802363</td>\n",
              "      <td>0.673710</td>\n",
              "      <td>-0.032058</td>\n",
              "      <td>0.449160</td>\n",
              "      <td>-0.054126</td>\n",
              "    </tr>\n",
              "    <tr>\n",
              "      <th>4</th>\n",
              "      <td>0.999893</td>\n",
              "      <td>0.327615</td>\n",
              "      <td>0.700477</td>\n",
              "      <td>0.315601</td>\n",
              "      <td>0.000000</td>\n",
              "      <td>0.300785</td>\n",
              "      <td>0.979009</td>\n",
              "      <td>-0.032224</td>\n",
              "      <td>1.762049</td>\n",
              "      <td>-0.054330</td>\n",
              "    </tr>\n",
              "  </tbody>\n",
              "</table>\n",
              "</div>\n",
              "      <button class=\"colab-df-convert\" onclick=\"convertToInteractive('df-791f601d-4448-4886-96f5-18f82904f009')\"\n",
              "              title=\"Convert this dataframe to an interactive table.\"\n",
              "              style=\"display:none;\">\n",
              "        \n",
              "  <svg xmlns=\"http://www.w3.org/2000/svg\" height=\"24px\"viewBox=\"0 0 24 24\"\n",
              "       width=\"24px\">\n",
              "    <path d=\"M0 0h24v24H0V0z\" fill=\"none\"/>\n",
              "    <path d=\"M18.56 5.44l.94 2.06.94-2.06 2.06-.94-2.06-.94-.94-2.06-.94 2.06-2.06.94zm-11 1L8.5 8.5l.94-2.06 2.06-.94-2.06-.94L8.5 2.5l-.94 2.06-2.06.94zm10 10l.94 2.06.94-2.06 2.06-.94-2.06-.94-.94-2.06-.94 2.06-2.06.94z\"/><path d=\"M17.41 7.96l-1.37-1.37c-.4-.4-.92-.59-1.43-.59-.52 0-1.04.2-1.43.59L10.3 9.45l-7.72 7.72c-.78.78-.78 2.05 0 2.83L4 21.41c.39.39.9.59 1.41.59.51 0 1.02-.2 1.41-.59l7.78-7.78 2.81-2.81c.8-.78.8-2.07 0-2.86zM5.41 20L4 18.59l7.72-7.72 1.47 1.35L5.41 20z\"/>\n",
              "  </svg>\n",
              "      </button>\n",
              "      \n",
              "  <style>\n",
              "    .colab-df-container {\n",
              "      display:flex;\n",
              "      flex-wrap:wrap;\n",
              "      gap: 12px;\n",
              "    }\n",
              "\n",
              "    .colab-df-convert {\n",
              "      background-color: #E8F0FE;\n",
              "      border: none;\n",
              "      border-radius: 50%;\n",
              "      cursor: pointer;\n",
              "      display: none;\n",
              "      fill: #1967D2;\n",
              "      height: 32px;\n",
              "      padding: 0 0 0 0;\n",
              "      width: 32px;\n",
              "    }\n",
              "\n",
              "    .colab-df-convert:hover {\n",
              "      background-color: #E2EBFA;\n",
              "      box-shadow: 0px 1px 2px rgba(60, 64, 67, 0.3), 0px 1px 3px 1px rgba(60, 64, 67, 0.15);\n",
              "      fill: #174EA6;\n",
              "    }\n",
              "\n",
              "    [theme=dark] .colab-df-convert {\n",
              "      background-color: #3B4455;\n",
              "      fill: #D2E3FC;\n",
              "    }\n",
              "\n",
              "    [theme=dark] .colab-df-convert:hover {\n",
              "      background-color: #434B5C;\n",
              "      box-shadow: 0px 1px 3px 1px rgba(0, 0, 0, 0.15);\n",
              "      filter: drop-shadow(0px 1px 2px rgba(0, 0, 0, 0.3));\n",
              "      fill: #FFFFFF;\n",
              "    }\n",
              "  </style>\n",
              "\n",
              "      <script>\n",
              "        const buttonEl =\n",
              "          document.querySelector('#df-791f601d-4448-4886-96f5-18f82904f009 button.colab-df-convert');\n",
              "        buttonEl.style.display =\n",
              "          google.colab.kernel.accessAllowed ? 'block' : 'none';\n",
              "\n",
              "        async function convertToInteractive(key) {\n",
              "          const element = document.querySelector('#df-791f601d-4448-4886-96f5-18f82904f009');\n",
              "          const dataTable =\n",
              "            await google.colab.kernel.invokeFunction('convertToInteractive',\n",
              "                                                     [key], {});\n",
              "          if (!dataTable) return;\n",
              "\n",
              "          const docLinkHtml = 'Like what you see? Visit the ' +\n",
              "            '<a target=\"_blank\" href=https://colab.research.google.com/notebooks/data_table.ipynb>data table notebook</a>'\n",
              "            + ' to learn more about interactive tables.';\n",
              "          element.innerHTML = '';\n",
              "          dataTable['output_type'] = 'display_data';\n",
              "          await google.colab.output.renderOutput(dataTable, element);\n",
              "          const docLink = document.createElement('div');\n",
              "          docLink.innerHTML = docLinkHtml;\n",
              "          element.appendChild(docLink);\n",
              "        }\n",
              "      </script>\n",
              "    </div>\n",
              "  </div>\n",
              "  "
            ]
          },
          "metadata": {},
          "execution_count": 3
        }
      ]
    },
    {
      "cell_type": "code",
      "source": [
        "# Normalizing the dataset\n",
        "X = normalize(data.to_numpy())\n"
      ],
      "metadata": {
        "id": "ofI5niYbCpiM"
      },
      "execution_count": null,
      "outputs": []
    },
    {
      "cell_type": "markdown",
      "source": [
        "## Utility functions"
      ],
      "metadata": {
        "id": "Rgq-Mkceezlb"
      }
    },
    {
      "cell_type": "markdown",
      "source": [
        "### Generating similarity matrices"
      ],
      "metadata": {
        "id": "JUxy55ms4Zvp"
      }
    },
    {
      "cell_type": "code",
      "source": [
        "def generate_distance_matrix(x, order=2):\n",
        "    \"\"\"\n",
        "    Generates the minkowski distance of a matrix with itself.\n",
        "\n",
        "    Parameters\n",
        "    ----------\n",
        "        x : np.array \n",
        "            Data upon which distance is calculated.\n",
        "            \n",
        "        order : non-zero int\n",
        "            Order of the distance calculated.\n",
        "\n",
        "    Returns\n",
        "    -------\n",
        "        distance_matrix: np.array\n",
        "            2D matrix representing distance of a matrix from itself.\n",
        "    \"\"\"\n",
        "    n = len(x);\n",
        "    \n",
        "    distance_matrix = np.zeros((n, n))\n",
        "\n",
        "    for i in range(n):\n",
        "        for j in range(i + 1, n):\n",
        "            temp = np.linalg.norm(x[i]-x[j], ord=order)\n",
        "        \n",
        "            distance_matrix[i][j] = temp\n",
        "            distance_matrix[j][i] = temp\n",
        "\n",
        "    return distance_matrix;\n"
      ],
      "metadata": {
        "id": "ohIanI2t4mQH"
      },
      "execution_count": null,
      "outputs": []
    },
    {
      "cell_type": "markdown",
      "source": [
        "Type 1 : k-nearest neighbours similarity"
      ],
      "metadata": {
        "id": "8mEtyUJf4jDx"
      }
    },
    {
      "cell_type": "code",
      "source": [
        "def k_nearest_neighbours(x, k, order=2):\n",
        "    \"\"\"\n",
        "    Generates the similarity matrix using minkowski distance with k nearest \n",
        "    neighbours.\n",
        "\n",
        "    Parameters\n",
        "    ----------\n",
        "        x : np.array \n",
        "            Data for which similarity matrix is computed.\n",
        "\n",
        "        k : non-zero int\n",
        "            Number of neighbours to construct the similarity matrix.\n",
        "            \n",
        "        order : non-zero int\n",
        "            Order of the distance calculated.\n",
        "\n",
        "    Returns\n",
        "    -------\n",
        "        similarity matrix: np.array\n",
        "            2D matrix representing similarity of data among itself.\n",
        "    \"\"\"\n",
        "    n = len(x)\n",
        "\n",
        "    distance = generate_distance_matrix(x, order)\n",
        "\n",
        "    similarity = np.zeros((n, n))\n",
        "\n",
        "    for i in range(n):\n",
        "        neighbours = np.argpartition(distance[i], k)\n",
        "\n",
        "        for j in neighbours:\n",
        "            temp = distance[i][j]\n",
        "\n",
        "            similarity[i][j] = temp\n",
        "            similarity[j][i] = temp\n",
        "\n",
        "    return similarity\n"
      ],
      "metadata": {
        "id": "ZKk_ldGibNMJ"
      },
      "execution_count": null,
      "outputs": []
    },
    {
      "cell_type": "markdown",
      "source": [
        "Type 2: Gaussian kernel similarity"
      ],
      "metadata": {
        "id": "644xN1qT690S"
      }
    },
    {
      "cell_type": "code",
      "source": [
        "def gaussian_similarity(x, sigma=1, order=2):\n",
        "    \"\"\"\n",
        "    Generates the similarity matrix using gaussian diminishing of distances\n",
        "\n",
        "    Parameters\n",
        "    ----------\n",
        "        x : np.array \n",
        "            Data for which similarity matrix is computed.\n",
        "\n",
        "        sigma : float\n",
        "            Variation value to be used for Gaussian distribution.\n",
        "            \n",
        "        order : non-zero int\n",
        "            Order of the distance calculated.\n",
        "\n",
        "    Returns\n",
        "    -------\n",
        "        similarity matrix: np.array\n",
        "            2D matrix representing similarity of data among itself.\n",
        "    \"\"\"\n",
        "    n = len(x);\n",
        "    \n",
        "    similarity = np.zeros((n, n))\n",
        "\n",
        "    for i in range(n):\n",
        "        for j in range(i + 1, n):\n",
        "            temp = np.exp(- np.linalg.norm(x[i]-x[j], ord=order)**2 / 2 / sigma / sigma)\n",
        "        \n",
        "            similarity[i][j] = temp\n",
        "            similarity[j][i] = temp\n",
        "\n",
        "    return similarity;\n"
      ],
      "metadata": {
        "id": "qyT53aIs7Bt9"
      },
      "execution_count": null,
      "outputs": []
    },
    {
      "cell_type": "markdown",
      "source": [
        "Type 3: epsilon neighbourhood similarity"
      ],
      "metadata": {
        "id": "RlajRDap7-mM"
      }
    },
    {
      "cell_type": "code",
      "source": [
        "def epsilon_similarity(x, eps=0.5, order=2):\n",
        "    \"\"\"\n",
        "    Generates the similarity matrix by removing distances less than parametrized\n",
        "    epsilon.\n",
        "\n",
        "    Parameters\n",
        "    ----------\n",
        "        x : np.array \n",
        "            Data for which similarity matrix is computed.\n",
        "\n",
        "        eps : float\n",
        "            Epsilon value above which distance is considered.\n",
        "            \n",
        "        order : non-zero int\n",
        "            Order of the distance calculated.\n",
        "\n",
        "    Returns\n",
        "    -------\n",
        "        similarity matrix: np.array\n",
        "            2D matrix representing similarity of data among itself.\n",
        "    \"\"\"\n",
        "    n = len(x);\n",
        "    \n",
        "    similarity = np.zeros((n, n))\n",
        "\n",
        "    for i in range(n):\n",
        "        for j in range(i + 1, n):\n",
        "            temp = np.linalg.norm(x[i]-x[j], ord=order)\n",
        "        \n",
        "            if (temp > eps):\n",
        "                similarity[i][j] = temp\n",
        "                similarity[j][i] = temp\n",
        "\n",
        "    return similarity;\n"
      ],
      "metadata": {
        "id": "VmzgnRRJ79Oj"
      },
      "execution_count": null,
      "outputs": []
    },
    {
      "cell_type": "code",
      "source": [
        "def generate_similarity(x, metric=\"knn\", order=2, k=10, sigma=1, eps=0.5):\n",
        "    \"\"\"\n",
        "    Wrapper function with all the different similarity matrix generation \n",
        "    hueristics. \n",
        "\n",
        "    Heuristics offered\n",
        "    ------------------\n",
        "        knn: Takes the k-nearest neighbours to compute the similarity graph\n",
        "\n",
        "        gaussian: Takes the gaussian diminishing to gernerate the similarity\n",
        "                    graph\n",
        "\n",
        "        epsilon: Generates similarity matrices with distance above parametrized\n",
        "                    value\n",
        "\n",
        "    Returns\n",
        "    -------\n",
        "        similarity matrix: np.array\n",
        "            2D matrix representing similarity of data among itself.\n",
        "    \"\"\"\n",
        "    if metric == \"knn\":\n",
        "        return k_nearest_neighbours(x, k, sigma, order)\n",
        "    elif metric == \"gaussian\":\n",
        "        return gaussian_similarity(x, sigma, order)\n",
        "    elif metric == \"epsilon\":\n",
        "        return epsilon_similarity(x, eps, order)\n",
        "\n",
        "    raise Exception(\"Metric is not valid\")\n"
      ],
      "metadata": {
        "id": "kmVFNDo39FsI"
      },
      "execution_count": null,
      "outputs": []
    },
    {
      "cell_type": "markdown",
      "source": [
        "### Laplacian & Eigen decomposition"
      ],
      "metadata": {
        "id": "ogEK7jRg4dAb"
      }
    },
    {
      "cell_type": "code",
      "source": [
        "def calculate_normalized_laplacian(x):\n",
        "    \"\"\"\n",
        "    Computes the normalized laplacian and returns it\n",
        "    \"\"\"\n",
        "    D = np.sum(x, axis=1)\n",
        "    L = np.diag(D) - x\n",
        "    \n",
        "    c = np.diag(D ** (-0.5))\n",
        "\n",
        "    return np.matmul(c, np.matmul(L, c))\n"
      ],
      "metadata": {
        "id": "qaKsvA4BuTjS"
      },
      "execution_count": null,
      "outputs": []
    },
    {
      "cell_type": "code",
      "source": [
        "def eigen_decomposition(x):\n",
        "    \"\"\"\n",
        "    Computes the eigen values and corresponding eigen vectors and returns them\n",
        "    in order of decreasing eigen values.\n",
        "    \"\"\"\n",
        "    eigval, eigvec = np.linalg.eig(x)\n",
        "\n",
        "    # Sorting based on the eigen values\n",
        "    curr_order = eigval.copy();\n",
        "    return eigval[np.argsort(curr_order)], eigvec[:,np.argsort(curr_order)]\n"
      ],
      "metadata": {
        "id": "ZaNJe5-LvPB-"
      },
      "execution_count": null,
      "outputs": []
    },
    {
      "cell_type": "markdown",
      "source": [
        "## Spectral clustering"
      ],
      "metadata": {
        "id": "pij5F_NH_S48"
      }
    },
    {
      "cell_type": "code",
      "source": [
        "def spectral_clusterer(x,\n",
        "                       metric=\"knn\",\n",
        "                       order=2,\n",
        "                       k=10,\n",
        "                       sigma=1,\n",
        "                       eps=0.5,\n",
        "                       n_clusters=\"auto\",\n",
        "                       plot_eigen=False):\n",
        "    \"\"\"\n",
        "    Generates cluster using  \n",
        "\n",
        "    Parameters\n",
        "    ----------\n",
        "        metric: [\"knn\", \"gaussian\", \"epsilon\"] | Heuristic to be followed.\n",
        "            Default value = \"knn\"\n",
        "\n",
        "        order: Order of the minkowski distance to be used.\n",
        "            Default value = 2\n",
        "\n",
        "        k: Number of neighbours to be considered for \"knn\".\n",
        "            Default value = 10\n",
        "\n",
        "        sigma: Gaussian parameter for \"gaussian\".\n",
        "            Default value = 1\n",
        "\n",
        "        eps: Epsilon value for distance validation for \"epsilon\".\n",
        "            Default value = 0.5\n",
        "\n",
        "        n_clusters: [non-zero int, \"auto\"]\n",
        "            Default value = \"auto\"\n",
        "            It figures out the n_clusters in \"auto\" by checking the point where\n",
        "            the difference in eigen values for components is largest.\n",
        "\n",
        "        plt_eig: [True, False]\n",
        "            Default value = False\n",
        "            Displays the plot showing variation between number of components \n",
        "            and the eigen values.\n",
        "\n",
        "    Returns\n",
        "    -------\n",
        "        y_pred: np.array\n",
        "            Cluster predictions for the data.\n",
        "\n",
        "        kmeans: Model class used for clustering.\n",
        "    \"\"\"\n",
        "    \n",
        "    # Generation of similarity matrix\n",
        "    similarity = generate_similarity(x, metric, order, k, sigma, eps)\n",
        "\n",
        "    # Generation of laplacian matrix\n",
        "    laplacian = calculate_normalized_laplacian(similarity)\n",
        "\n",
        "    # Decomposing the vectors to lower dimensions using eigen vectors\n",
        "    eigval, eigvec = eigen_decomposition(laplacian)\n",
        "\n",
        "    if (plot_eigen):\n",
        "        # Plot eigen-values\n",
        "        plt.ylabel(\"Eigen values\")\n",
        "        plt.xlabel(\"Number of components\")\n",
        "        plt.plot(eigval, color='b', marker='o', linestyle='--')\n",
        "\n",
        "    # Figuring the number of clusters by using the number of components where\n",
        "    # the eigen value decreases the most.\n",
        "    if (n_clusters == \"auto\"):\n",
        "        n_clusters = -1\n",
        "        eigval_diff = 0\n",
        "\n",
        "        for i in range(1, len(eigval) - 1):\n",
        "            if eigval_diff < eigval[i+1] - eigval[i]:\n",
        "                n_clusters = i + 1\n",
        "                eigval_diff= eigval[i+1]- eigval[i]\n",
        "\n",
        "    print(\"Number of clusters = \", n_clusters)\n",
        "\n",
        "    # Creating and runnning KMeans on the data processed.\n",
        "    kmeans = KMeans(n_clusters=n_clusters)\n",
        "    y_pred = kmeans.fit_predict(eigvec)\n",
        "\n",
        "    return y_pred, kmeans\n"
      ],
      "metadata": {
        "id": "LgTlGTmvjCDJ"
      },
      "execution_count": null,
      "outputs": []
    },
    {
      "cell_type": "markdown",
      "source": [
        "## Results"
      ],
      "metadata": {
        "id": "o4VVA21otpAu"
      }
    },
    {
      "cell_type": "code",
      "source": [
        "# Best results were obtained for the gaussian similarity matrix with sigma=1\n",
        "y_pred, kmeans = spectral_clusterer(\n",
        "    X,\n",
        "    metric=\"gaussian\",\n",
        "    sigma=2,\n",
        "    n_clusters=2,\n",
        "    plot_eigen=True\n",
        "    )\n"
      ],
      "metadata": {
        "id": "d8wMcuAd_pLo",
        "colab": {
          "base_uri": "https://localhost:8080/",
          "height": 521
        },
        "outputId": "931da4d4-3d61-4573-f65c-9c96a31efe37"
      },
      "execution_count": null,
      "outputs": [
        {
          "output_type": "stream",
          "name": "stdout",
          "text": [
            "Number of clusters =  2\n"
          ]
        },
        {
          "output_type": "stream",
          "name": "stderr",
          "text": [
            "/usr/local/lib/python3.9/dist-packages/sklearn/cluster/_kmeans.py:870: FutureWarning: The default value of `n_init` will change from 10 to 'auto' in 1.4. Set the value of `n_init` explicitly to suppress the warning\n",
            "  warnings.warn(\n"
          ]
        },
        {
          "output_type": "display_data",
          "data": {
            "text/plain": [
              "<Figure size 640x480 with 1 Axes>"
            ],
            "image/png": "[encoded data removed]"
          },
          "metadata": {}
        }
      ]
    },
    {
      "cell_type": "code",
      "source": [
        "## Adding the clusters to the given data\n",
        "data[\"cluster\"] = pd.Series(y_pred)\n",
        "data.head()\n"
      ],
      "metadata": {
        "colab": {
          "base_uri": "https://localhost:8080/",
          "height": 206
        },
        "id": "hPPuKmMEFfZB",
        "outputId": "d3d81a44-65b2-414d-b840-68afafe3d622"
      },
      "execution_count": null,
      "outputs": [
        {
          "output_type": "execute_result",
          "data": {
            "text/plain": [
              "       cov1      cov2      cov3      cov4      cov5      cov6      cov7  \\\n",
              "0  0.997797  0.999888  0.215934  0.196713  0.000000  0.955616  0.998810   \n",
              "1  0.994004  0.979902 -0.337135 -0.248634  0.000000  0.640812  0.553918   \n",
              "2  0.947603  0.455667  0.001743  0.128610 -0.004054 -0.162069  0.960601   \n",
              "3  0.396577  0.919933  0.496451  0.576824 -0.340718  0.802363  0.673710   \n",
              "4  0.999893  0.327615  0.700477  0.315601  0.000000  0.300785  0.979009   \n",
              "\n",
              "   sal_pur_rat  igst_itc_tot_itc_rat  lib_igst_itc_rat  cluster  \n",
              "0    -0.032581              1.761759         -0.054329        1  \n",
              "1    -0.032026             -0.629311         -0.053516        1  \n",
              "2    -0.030209              1.535697         -0.054215        1  \n",
              "3    -0.032058              0.449160         -0.054126        1  \n",
              "4    -0.032224              1.762049         -0.054330        1  "
            ],
            "text/html": [
              "\n",
              "  <div id=\"df-40d0b099-1d69-436a-8d2a-2b46897b7296\">\n",
              "    <div class=\"colab-df-container\">\n",
              "      <div>\n",
              "<style scoped>\n",
              "    .dataframe tbody tr th:only-of-type {\n",
              "        vertical-align: middle;\n",
              "    }\n",
              "\n",
              "    .dataframe tbody tr th {\n",
              "        vertical-align: top;\n",
              "    }\n",
              "\n",
              "    .dataframe thead th {\n",
              "        text-align: right;\n",
              "    }\n",
              "</style>\n",
              "<table border=\"1\" class=\"dataframe\">\n",
              "  <thead>\n",
              "    <tr style=\"text-align: right;\">\n",
              "      <th></th>\n",
              "      <th>cov1</th>\n",
              "      <th>cov2</th>\n",
              "      <th>cov3</th>\n",
              "      <th>cov4</th>\n",
              "      <th>cov5</th>\n",
              "      <th>cov6</th>\n",
              "      <th>cov7</th>\n",
              "      <th>sal_pur_rat</th>\n",
              "      <th>igst_itc_tot_itc_rat</th>\n",
              "      <th>lib_igst_itc_rat</th>\n",
              "      <th>cluster</th>\n",
              "    </tr>\n",
              "  </thead>\n",
              "  <tbody>\n",
              "    <tr>\n",
              "      <th>0</th>\n",
              "      <td>0.997797</td>\n",
              "      <td>0.999888</td>\n",
              "      <td>0.215934</td>\n",
              "      <td>0.196713</td>\n",
              "      <td>0.000000</td>\n",
              "      <td>0.955616</td>\n",
              "      <td>0.998810</td>\n",
              "      <td>-0.032581</td>\n",
              "      <td>1.761759</td>\n",
              "      <td>-0.054329</td>\n",
              "      <td>1</td>\n",
              "    </tr>\n",
              "    <tr>\n",
              "      <th>1</th>\n",
              "      <td>0.994004</td>\n",
              "      <td>0.979902</td>\n",
              "      <td>-0.337135</td>\n",
              "      <td>-0.248634</td>\n",
              "      <td>0.000000</td>\n",
              "      <td>0.640812</td>\n",
              "      <td>0.553918</td>\n",
              "      <td>-0.032026</td>\n",
              "      <td>-0.629311</td>\n",
              "      <td>-0.053516</td>\n",
              "      <td>1</td>\n",
              "    </tr>\n",
              "    <tr>\n",
              "      <th>2</th>\n",
              "      <td>0.947603</td>\n",
              "      <td>0.455667</td>\n",
              "      <td>0.001743</td>\n",
              "      <td>0.128610</td>\n",
              "      <td>-0.004054</td>\n",
              "      <td>-0.162069</td>\n",
              "      <td>0.960601</td>\n",
              "      <td>-0.030209</td>\n",
              "      <td>1.535697</td>\n",
              "      <td>-0.054215</td>\n",
              "      <td>1</td>\n",
              "    </tr>\n",
              "    <tr>\n",
              "      <th>3</th>\n",
              "      <td>0.396577</td>\n",
              "      <td>0.919933</td>\n",
              "      <td>0.496451</td>\n",
              "      <td>0.576824</td>\n",
              "      <td>-0.340718</td>\n",
              "      <td>0.802363</td>\n",
              "      <td>0.673710</td>\n",
              "      <td>-0.032058</td>\n",
              "      <td>0.449160</td>\n",
              "      <td>-0.054126</td>\n",
              "      <td>1</td>\n",
              "    </tr>\n",
              "    <tr>\n",
              "      <th>4</th>\n",
              "      <td>0.999893</td>\n",
              "      <td>0.327615</td>\n",
              "      <td>0.700477</td>\n",
              "      <td>0.315601</td>\n",
              "      <td>0.000000</td>\n",
              "      <td>0.300785</td>\n",
              "      <td>0.979009</td>\n",
              "      <td>-0.032224</td>\n",
              "      <td>1.762049</td>\n",
              "      <td>-0.054330</td>\n",
              "      <td>1</td>\n",
              "    </tr>\n",
              "  </tbody>\n",
              "</table>\n",
              "</div>\n",
              "      <button class=\"colab-df-convert\" onclick=\"convertToInteractive('df-40d0b099-1d69-436a-8d2a-2b46897b7296')\"\n",
              "              title=\"Convert this dataframe to an interactive table.\"\n",
              "              style=\"display:none;\">\n",
              "        \n",
              "  <svg xmlns=\"http://www.w3.org/2000/svg\" height=\"24px\"viewBox=\"0 0 24 24\"\n",
              "       width=\"24px\">\n",
              "    <path d=\"M0 0h24v24H0V0z\" fill=\"none\"/>\n",
              "    <path d=\"M18.56 5.44l.94 2.06.94-2.06 2.06-.94-2.06-.94-.94-2.06-.94 2.06-2.06.94zm-11 1L8.5 8.5l.94-2.06 2.06-.94-2.06-.94L8.5 2.5l-.94 2.06-2.06.94zm10 10l.94 2.06.94-2.06 2.06-.94-2.06-.94-.94-2.06-.94 2.06-2.06.94z\"/><path d=\"M17.41 7.96l-1.37-1.37c-.4-.4-.92-.59-1.43-.59-.52 0-1.04.2-1.43.59L10.3 9.45l-7.72 7.72c-.78.78-.78 2.05 0 2.83L4 21.41c.39.39.9.59 1.41.59.51 0 1.02-.2 1.41-.59l7.78-7.78 2.81-2.81c.8-.78.8-2.07 0-2.86zM5.41 20L4 18.59l7.72-7.72 1.47 1.35L5.41 20z\"/>\n",
              "  </svg>\n",
              "      </button>\n",
              "      \n",
              "  <style>\n",
              "    .colab-df-container {\n",
              "      display:flex;\n",
              "      flex-wrap:wrap;\n",
              "      gap: 12px;\n",
              "    }\n",
              "\n",
              "    .colab-df-convert {\n",
              "      background-color: #E8F0FE;\n",
              "      border: none;\n",
              "      border-radius: 50%;\n",
              "      cursor: pointer;\n",
              "      display: none;\n",
              "      fill: #1967D2;\n",
              "      height: 32px;\n",
              "      padding: 0 0 0 0;\n",
              "      width: 32px;\n",
              "    }\n",
              "\n",
              "    .colab-df-convert:hover {\n",
              "      background-color: #E2EBFA;\n",
              "      box-shadow: 0px 1px 2px rgba(60, 64, 67, 0.3), 0px 1px 3px 1px rgba(60, 64, 67, 0.15);\n",
              "      fill: #174EA6;\n",
              "    }\n",
              "\n",
              "    [theme=dark] .colab-df-convert {\n",
              "      background-color: #3B4455;\n",
              "      fill: #D2E3FC;\n",
              "    }\n",
              "\n",
              "    [theme=dark] .colab-df-convert:hover {\n",
              "      background-color: #434B5C;\n",
              "      box-shadow: 0px 1px 3px 1px rgba(0, 0, 0, 0.15);\n",
              "      filter: drop-shadow(0px 1px 2px rgba(0, 0, 0, 0.3));\n",
              "      fill: #FFFFFF;\n",
              "    }\n",
              "  </style>\n",
              "\n",
              "      <script>\n",
              "        const buttonEl =\n",
              "          document.querySelector('#df-40d0b099-1d69-436a-8d2a-2b46897b7296 button.colab-df-convert');\n",
              "        buttonEl.style.display =\n",
              "          google.colab.kernel.accessAllowed ? 'block' : 'none';\n",
              "\n",
              "        async function convertToInteractive(key) {\n",
              "          const element = document.querySelector('#df-40d0b099-1d69-436a-8d2a-2b46897b7296');\n",
              "          const dataTable =\n",
              "            await google.colab.kernel.invokeFunction('convertToInteractive',\n",
              "                                                     [key], {});\n",
              "          if (!dataTable) return;\n",
              "\n",
              "          const docLinkHtml = 'Like what you see? Visit the ' +\n",
              "            '<a target=\"_blank\" href=https://colab.research.google.com/notebooks/data_table.ipynb>data table notebook</a>'\n",
              "            + ' to learn more about interactive tables.';\n",
              "          element.innerHTML = '';\n",
              "          dataTable['output_type'] = 'display_data';\n",
              "          await google.colab.output.renderOutput(dataTable, element);\n",
              "          const docLink = document.createElement('div');\n",
              "          docLink.innerHTML = docLinkHtml;\n",
              "          element.appendChild(docLink);\n",
              "        }\n",
              "      </script>\n",
              "    </div>\n",
              "  </div>\n",
              "  "
            ]
          },
          "metadata": {},
          "execution_count": 14
        }
      ]
    },
    {
      "cell_type": "code",
      "source": [
        "# Example plot\n",
        "sns.scatterplot(data, x=\"cov1\", y=\"cov2\", hue=\"cluster\")\n"
      ],
      "metadata": {
        "colab": {
          "base_uri": "https://localhost:8080/",
          "height": 466
        },
        "id": "6O6uR0-1tXgZ",
        "outputId": "389fa3a0-a149-4cb6-d068-d3a82a9da2e9"
      },
      "execution_count": null,
      "outputs": [
        {
          "output_type": "execute_result",
          "data": {
            "text/plain": [
              "<Axes: xlabel='cov1', ylabel='cov2'>"
            ]
          },
          "metadata": {},
          "execution_count": 15
        },
        {
          "output_type": "display_data",
          "data": {
            "text/plain": [
              "<Figure size 640x480 with 1 Axes>"
            ],
            "image/png": "[encoded data removed]"
          },
          "metadata": {}
        }
      ]
    },
    {
      "cell_type": "markdown",
      "source": [
        "> Note that in this case, the outliers might not look like outliers since this is a 10 dimension dataset"
      ],
      "metadata": {
        "id": "6Wk3MS1LuO0e"
      }
    }
  ]
}